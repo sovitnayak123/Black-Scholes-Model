{
 "cells": [
  {
   "cell_type": "markdown",
   "id": "72786274",
   "metadata": {},
   "source": [
    "# Black-Scholes Model Implementation in Python"
   ]
  },
  {
   "cell_type": "markdown",
   "id": "31af4991",
   "metadata": {},
   "source": [
    "\n",
    "This Jupyter notebook walks you through the steps to implement the Black-Scholes model for option pricing in Python. \n",
    "We will calculate the price of a European call and put option based on key parameters like underlying price, strike price, \n",
    "time to expiration, risk-free interest rate, and volatility.\n",
    "    "
   ]
  },
  {
   "cell_type": "code",
   "execution_count": null,
   "id": "b5816390",
   "metadata": {},
   "outputs": [],
   "source": [
    "\n",
    "import numpy as np\n",
    "from scipy.stats import norm\n",
    "\n",
    "# Black-Scholes formula for call and put option prices\n",
    "def black_scholes(S, K, T, r, sigma, option_type=\"call\"):\n",
    "    '''\n",
    "    S: Spot price of the underlying asset\n",
    "    K: Strike price of the option\n",
    "    T: Time to maturity in years\n",
    "    r: Risk-free interest rate\n",
    "    sigma: Volatility of the underlying asset\n",
    "    option_type: 'call' for call option, 'put' for put option\n",
    "    '''\n",
    "    d1 = (np.log(S / K) + (r + 0.5 * sigma ** 2) * T) / (sigma * np.sqrt(T))\n",
    "    d2 = d1 - sigma * np.sqrt(T)\n",
    "\n",
    "    if option_type == \"call\":\n",
    "        return S * norm.cdf(d1) - K * np.exp(-r * T) * norm.cdf(d2)\n",
    "    elif option_type == \"put\":\n",
    "        return K * np.exp(-r * T) * norm.cdf(-d2) - S * norm.cdf(-d1)\n",
    "    else:\n",
    "        raise ValueError(\"Invalid option type. Choose 'call' or 'put'.\")\n",
    "\n",
    "# Example Usage\n",
    "S = 100  # Spot price of the underlying asset\n",
    "K = 100  # Strike price\n",
    "T = 1    # Time to maturity in years\n",
    "r = 0.05 # Risk-free interest rate (5%)\n",
    "sigma = 0.2 # Volatility of the underlying asset (20%)\n",
    "\n",
    "# Calculate call and put option prices\n",
    "call_price = black_scholes(S, K, T, r, sigma, option_type=\"call\")\n",
    "put_price = black_scholes(S, K, T, r, sigma, option_type=\"put\")\n",
    "\n",
    "call_price, put_price\n",
    "    "
   ]
  },
  {
   "cell_type": "markdown",
   "id": "eab1fbf0",
   "metadata": {},
   "source": [
    "\n",
    "In the example above, we calculate the prices of a European call and put option using the Black-Scholes formula. \n",
    "You can modify the parameters `S`, `K`, `T`, `r`, and `sigma` to calculate prices for other options.\n",
    "    "
   ]
  }
 ],
 "metadata": {},
 "nbformat": 4,
 "nbformat_minor": 5
}
